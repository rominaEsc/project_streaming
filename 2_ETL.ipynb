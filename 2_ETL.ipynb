{
 "cells": [
  {
   "cell_type": "code",
   "execution_count": 84,
   "metadata": {},
   "outputs": [],
   "source": [
    "import pandas as pd\n",
    "import numpy as np\n",
    "import matplotlib.pyplot as plt\n",
    "import seaborn as sns\n",
    "import ast\n",
    "\n",
    "# Establecer la opción para mostrar todas las columnas\n",
    "pd.set_option('display.max_columns', None)"
   ]
  },
  {
   "cell_type": "markdown",
   "metadata": {},
   "source": [
    "Cargamos el primer archivo con el que vamos a trabajar."
   ]
  },
  {
   "cell_type": "code",
   "execution_count": 85,
   "metadata": {},
   "outputs": [
    {
     "name": "stdout",
     "output_type": "stream",
     "text": [
      "<class 'pandas.core.frame.DataFrame'>\n",
      "RangeIndex: 45466 entries, 0 to 45465\n",
      "Data columns (total 24 columns):\n",
      " #   Column                 Non-Null Count  Dtype  \n",
      "---  ------                 --------------  -----  \n",
      " 0   adult                  45466 non-null  object \n",
      " 1   belongs_to_collection  4494 non-null   object \n",
      " 2   budget                 45466 non-null  object \n",
      " 3   genres                 45466 non-null  object \n",
      " 4   homepage               7782 non-null   object \n",
      " 5   id                     45466 non-null  object \n",
      " 6   imdb_id                45449 non-null  object \n",
      " 7   original_language      45455 non-null  object \n",
      " 8   original_title         45466 non-null  object \n",
      " 9   overview               44512 non-null  object \n",
      " 10  popularity             45461 non-null  object \n",
      " 11  poster_path            45080 non-null  object \n",
      " 12  production_companies   45463 non-null  object \n",
      " 13  production_countries   45463 non-null  object \n",
      " 14  release_date           45379 non-null  object \n",
      " 15  revenue                45460 non-null  float64\n",
      " 16  runtime                45203 non-null  float64\n",
      " 17  spoken_languages       45460 non-null  object \n",
      " 18  status                 45379 non-null  object \n",
      " 19  tagline                20412 non-null  object \n",
      " 20  title                  45460 non-null  object \n",
      " 21  video                  45460 non-null  object \n",
      " 22  vote_average           45460 non-null  float64\n",
      " 23  vote_count             45460 non-null  float64\n",
      "dtypes: float64(4), object(20)\n",
      "memory usage: 8.3+ MB\n"
     ]
    },
    {
     "data": {
      "text/html": [
       "<div>\n",
       "<style scoped>\n",
       "    .dataframe tbody tr th:only-of-type {\n",
       "        vertical-align: middle;\n",
       "    }\n",
       "\n",
       "    .dataframe tbody tr th {\n",
       "        vertical-align: top;\n",
       "    }\n",
       "\n",
       "    .dataframe thead th {\n",
       "        text-align: right;\n",
       "    }\n",
       "</style>\n",
       "<table border=\"1\" class=\"dataframe\">\n",
       "  <thead>\n",
       "    <tr style=\"text-align: right;\">\n",
       "      <th></th>\n",
       "      <th>adult</th>\n",
       "      <th>belongs_to_collection</th>\n",
       "      <th>budget</th>\n",
       "      <th>genres</th>\n",
       "      <th>homepage</th>\n",
       "      <th>id</th>\n",
       "      <th>imdb_id</th>\n",
       "      <th>original_language</th>\n",
       "      <th>original_title</th>\n",
       "      <th>overview</th>\n",
       "      <th>popularity</th>\n",
       "      <th>poster_path</th>\n",
       "      <th>production_companies</th>\n",
       "      <th>production_countries</th>\n",
       "      <th>release_date</th>\n",
       "      <th>revenue</th>\n",
       "      <th>runtime</th>\n",
       "      <th>spoken_languages</th>\n",
       "      <th>status</th>\n",
       "      <th>tagline</th>\n",
       "      <th>title</th>\n",
       "      <th>video</th>\n",
       "      <th>vote_average</th>\n",
       "      <th>vote_count</th>\n",
       "    </tr>\n",
       "  </thead>\n",
       "  <tbody>\n",
       "    <tr>\n",
       "      <th>0</th>\n",
       "      <td>False</td>\n",
       "      <td>{'id': 10194, 'name': 'Toy Story Collection', ...</td>\n",
       "      <td>30000000</td>\n",
       "      <td>[{'id': 16, 'name': 'Animation'}, {'id': 35, '...</td>\n",
       "      <td>http://toystory.disney.com/toy-story</td>\n",
       "      <td>862</td>\n",
       "      <td>tt0114709</td>\n",
       "      <td>en</td>\n",
       "      <td>Toy Story</td>\n",
       "      <td>Led by Woody, Andy's toys live happily in his ...</td>\n",
       "      <td>21.946943</td>\n",
       "      <td>/rhIRbceoE9lR4veEXuwCC2wARtG.jpg</td>\n",
       "      <td>[{'name': 'Pixar Animation Studios', 'id': 3}]</td>\n",
       "      <td>[{'iso_3166_1': 'US', 'name': 'United States o...</td>\n",
       "      <td>1995-10-30</td>\n",
       "      <td>373554033.0</td>\n",
       "      <td>81.0</td>\n",
       "      <td>[{'iso_639_1': 'en', 'name': 'English'}]</td>\n",
       "      <td>Released</td>\n",
       "      <td>NaN</td>\n",
       "      <td>Toy Story</td>\n",
       "      <td>False</td>\n",
       "      <td>7.7</td>\n",
       "      <td>5415.0</td>\n",
       "    </tr>\n",
       "    <tr>\n",
       "      <th>1</th>\n",
       "      <td>False</td>\n",
       "      <td>NaN</td>\n",
       "      <td>65000000</td>\n",
       "      <td>[{'id': 12, 'name': 'Adventure'}, {'id': 14, '...</td>\n",
       "      <td>NaN</td>\n",
       "      <td>8844</td>\n",
       "      <td>tt0113497</td>\n",
       "      <td>en</td>\n",
       "      <td>Jumanji</td>\n",
       "      <td>When siblings Judy and Peter discover an encha...</td>\n",
       "      <td>17.015539</td>\n",
       "      <td>/vzmL6fP7aPKNKPRTFnZmiUfciyV.jpg</td>\n",
       "      <td>[{'name': 'TriStar Pictures', 'id': 559}, {'na...</td>\n",
       "      <td>[{'iso_3166_1': 'US', 'name': 'United States o...</td>\n",
       "      <td>1995-12-15</td>\n",
       "      <td>262797249.0</td>\n",
       "      <td>104.0</td>\n",
       "      <td>[{'iso_639_1': 'en', 'name': 'English'}, {'iso...</td>\n",
       "      <td>Released</td>\n",
       "      <td>Roll the dice and unleash the excitement!</td>\n",
       "      <td>Jumanji</td>\n",
       "      <td>False</td>\n",
       "      <td>6.9</td>\n",
       "      <td>2413.0</td>\n",
       "    </tr>\n",
       "  </tbody>\n",
       "</table>\n",
       "</div>"
      ],
      "text/plain": [
       "   adult                              belongs_to_collection    budget  \\\n",
       "0  False  {'id': 10194, 'name': 'Toy Story Collection', ...  30000000   \n",
       "1  False                                                NaN  65000000   \n",
       "\n",
       "                                              genres  \\\n",
       "0  [{'id': 16, 'name': 'Animation'}, {'id': 35, '...   \n",
       "1  [{'id': 12, 'name': 'Adventure'}, {'id': 14, '...   \n",
       "\n",
       "                               homepage    id    imdb_id original_language  \\\n",
       "0  http://toystory.disney.com/toy-story   862  tt0114709                en   \n",
       "1                                   NaN  8844  tt0113497                en   \n",
       "\n",
       "  original_title                                           overview  \\\n",
       "0      Toy Story  Led by Woody, Andy's toys live happily in his ...   \n",
       "1        Jumanji  When siblings Judy and Peter discover an encha...   \n",
       "\n",
       "  popularity                       poster_path  \\\n",
       "0  21.946943  /rhIRbceoE9lR4veEXuwCC2wARtG.jpg   \n",
       "1  17.015539  /vzmL6fP7aPKNKPRTFnZmiUfciyV.jpg   \n",
       "\n",
       "                                production_companies  \\\n",
       "0     [{'name': 'Pixar Animation Studios', 'id': 3}]   \n",
       "1  [{'name': 'TriStar Pictures', 'id': 559}, {'na...   \n",
       "\n",
       "                                production_countries release_date  \\\n",
       "0  [{'iso_3166_1': 'US', 'name': 'United States o...   1995-10-30   \n",
       "1  [{'iso_3166_1': 'US', 'name': 'United States o...   1995-12-15   \n",
       "\n",
       "       revenue  runtime                                   spoken_languages  \\\n",
       "0  373554033.0     81.0           [{'iso_639_1': 'en', 'name': 'English'}]   \n",
       "1  262797249.0    104.0  [{'iso_639_1': 'en', 'name': 'English'}, {'iso...   \n",
       "\n",
       "     status                                    tagline      title  video  \\\n",
       "0  Released                                        NaN  Toy Story  False   \n",
       "1  Released  Roll the dice and unleash the excitement!    Jumanji  False   \n",
       "\n",
       "   vote_average  vote_count  \n",
       "0           7.7      5415.0  \n",
       "1           6.9      2413.0  "
      ]
     },
     "execution_count": 85,
     "metadata": {},
     "output_type": "execute_result"
    }
   ],
   "source": [
    "movies_raw_csv = pd.read_csv('data/data_raw/movies_dataset.csv',low_memory=False)\n",
    "movies_raw_csv.info()\n",
    "movies_raw_csv.head(2)"
   ]
  },
  {
   "cell_type": "code",
   "execution_count": 86,
   "metadata": {},
   "outputs": [
    {
     "data": {
      "text/plain": [
       "adult                        0\n",
       "belongs_to_collection    40972\n",
       "budget                       0\n",
       "genres                       0\n",
       "homepage                 37684\n",
       "id                           0\n",
       "imdb_id                     17\n",
       "original_language           11\n",
       "original_title               0\n",
       "overview                   954\n",
       "popularity                   5\n",
       "poster_path                386\n",
       "production_companies         3\n",
       "production_countries         3\n",
       "release_date                87\n",
       "revenue                      6\n",
       "runtime                    263\n",
       "spoken_languages             6\n",
       "status                      87\n",
       "tagline                  25054\n",
       "title                        6\n",
       "video                        6\n",
       "vote_average                 6\n",
       "vote_count                   6\n",
       "dtype: int64"
      ]
     },
     "execution_count": 86,
     "metadata": {},
     "output_type": "execute_result"
    }
   ],
   "source": [
    "(\n",
    "    movies_raw_csv\n",
    "    .isnull()\n",
    "    .sum()\n",
    ")"
   ]
  },
  {
   "cell_type": "markdown",
   "metadata": {},
   "source": [
    "Tenemos una base de datos de peliculas, la cual contiene 45466 filas y 24 columnas.\n",
    "Las columnas 'belongs_to_collection', 'genres', 'production_companies','production_countries' y 'spoken_languages' poseen datos anidados.\n",
    "Analizando la información del df podemos notar que 6 peliculas tienen valores nulos en el campo 'title' pero no en el campo 'original_title'. Buscaremos esas filas."
   ]
  },
  {
   "cell_type": "code",
   "execution_count": 87,
   "metadata": {},
   "outputs": [
    {
     "data": {
      "text/html": [
       "<div>\n",
       "<style scoped>\n",
       "    .dataframe tbody tr th:only-of-type {\n",
       "        vertical-align: middle;\n",
       "    }\n",
       "\n",
       "    .dataframe tbody tr th {\n",
       "        vertical-align: top;\n",
       "    }\n",
       "\n",
       "    .dataframe thead th {\n",
       "        text-align: right;\n",
       "    }\n",
       "</style>\n",
       "<table border=\"1\" class=\"dataframe\">\n",
       "  <thead>\n",
       "    <tr style=\"text-align: right;\">\n",
       "      <th></th>\n",
       "      <th>adult</th>\n",
       "      <th>belongs_to_collection</th>\n",
       "      <th>budget</th>\n",
       "      <th>genres</th>\n",
       "      <th>homepage</th>\n",
       "      <th>id</th>\n",
       "      <th>imdb_id</th>\n",
       "      <th>original_language</th>\n",
       "      <th>original_title</th>\n",
       "      <th>overview</th>\n",
       "      <th>popularity</th>\n",
       "      <th>poster_path</th>\n",
       "      <th>production_companies</th>\n",
       "      <th>production_countries</th>\n",
       "      <th>release_date</th>\n",
       "      <th>revenue</th>\n",
       "      <th>runtime</th>\n",
       "      <th>spoken_languages</th>\n",
       "      <th>status</th>\n",
       "      <th>tagline</th>\n",
       "      <th>title</th>\n",
       "      <th>video</th>\n",
       "      <th>vote_average</th>\n",
       "      <th>vote_count</th>\n",
       "    </tr>\n",
       "  </thead>\n",
       "  <tbody>\n",
       "    <tr>\n",
       "      <th>19729</th>\n",
       "      <td>False</td>\n",
       "      <td>NaN</td>\n",
       "      <td>0</td>\n",
       "      <td>[{'id': 28, 'name': 'Action'}, {'id': 53, 'nam...</td>\n",
       "      <td>NaN</td>\n",
       "      <td>82663</td>\n",
       "      <td>tt0113002</td>\n",
       "      <td>en</td>\n",
       "      <td>Midnight Man</td>\n",
       "      <td>British soldiers force a recently captured IRA...</td>\n",
       "      <td>NaN</td>\n",
       "      <td>NaN</td>\n",
       "      <td>NaN</td>\n",
       "      <td>NaN</td>\n",
       "      <td>NaN</td>\n",
       "      <td>NaN</td>\n",
       "      <td>NaN</td>\n",
       "      <td>NaN</td>\n",
       "      <td>NaN</td>\n",
       "      <td>NaN</td>\n",
       "      <td>NaN</td>\n",
       "      <td>NaN</td>\n",
       "      <td>NaN</td>\n",
       "      <td>NaN</td>\n",
       "    </tr>\n",
       "    <tr>\n",
       "      <th>19730</th>\n",
       "      <td>- Written by Ørnås</td>\n",
       "      <td>0.065736</td>\n",
       "      <td>/ff9qCepilowshEtG2GYWwzt2bs4.jpg</td>\n",
       "      <td>[{'name': 'Carousel Productions', 'id': 11176}...</td>\n",
       "      <td>[{'iso_3166_1': 'CA', 'name': 'Canada'}, {'iso...</td>\n",
       "      <td>1997-08-20</td>\n",
       "      <td>0</td>\n",
       "      <td>104.0</td>\n",
       "      <td>[{'iso_639_1': 'en', 'name': 'English'}]</td>\n",
       "      <td>Released</td>\n",
       "      <td>NaN</td>\n",
       "      <td>Midnight Man</td>\n",
       "      <td>False</td>\n",
       "      <td>6.0</td>\n",
       "      <td>1</td>\n",
       "      <td>NaN</td>\n",
       "      <td>NaN</td>\n",
       "      <td>NaN</td>\n",
       "      <td>NaN</td>\n",
       "      <td>NaN</td>\n",
       "      <td>NaN</td>\n",
       "      <td>NaN</td>\n",
       "      <td>NaN</td>\n",
       "      <td>NaN</td>\n",
       "    </tr>\n",
       "    <tr>\n",
       "      <th>29502</th>\n",
       "      <td>False</td>\n",
       "      <td>{'id': 122661, 'name': 'Mardock Scramble Colle...</td>\n",
       "      <td>0</td>\n",
       "      <td>[{'id': 16, 'name': 'Animation'}, {'id': 878, ...</td>\n",
       "      <td>http://m-scramble.jp/exhaust/</td>\n",
       "      <td>122662</td>\n",
       "      <td>tt2423504</td>\n",
       "      <td>ja</td>\n",
       "      <td>マルドゥック・スクランブル 排気</td>\n",
       "      <td>Third film of the Mardock Scramble series.</td>\n",
       "      <td>NaN</td>\n",
       "      <td>NaN</td>\n",
       "      <td>NaN</td>\n",
       "      <td>NaN</td>\n",
       "      <td>NaN</td>\n",
       "      <td>NaN</td>\n",
       "      <td>NaN</td>\n",
       "      <td>NaN</td>\n",
       "      <td>NaN</td>\n",
       "      <td>NaN</td>\n",
       "      <td>NaN</td>\n",
       "      <td>NaN</td>\n",
       "      <td>NaN</td>\n",
       "      <td>NaN</td>\n",
       "    </tr>\n",
       "    <tr>\n",
       "      <th>29503</th>\n",
       "      <td>Rune Balot goes to a casino connected to the ...</td>\n",
       "      <td>1.931659</td>\n",
       "      <td>/zV8bHuSL6WXoD6FWogP9j4x80bL.jpg</td>\n",
       "      <td>[{'name': 'Aniplex', 'id': 2883}, {'name': 'Go...</td>\n",
       "      <td>[{'iso_3166_1': 'US', 'name': 'United States o...</td>\n",
       "      <td>2012-09-29</td>\n",
       "      <td>0</td>\n",
       "      <td>68.0</td>\n",
       "      <td>[{'iso_639_1': 'ja', 'name': '日本語'}]</td>\n",
       "      <td>Released</td>\n",
       "      <td>NaN</td>\n",
       "      <td>Mardock Scramble: The Third Exhaust</td>\n",
       "      <td>False</td>\n",
       "      <td>7.0</td>\n",
       "      <td>12</td>\n",
       "      <td>NaN</td>\n",
       "      <td>NaN</td>\n",
       "      <td>NaN</td>\n",
       "      <td>NaN</td>\n",
       "      <td>NaN</td>\n",
       "      <td>NaN</td>\n",
       "      <td>NaN</td>\n",
       "      <td>NaN</td>\n",
       "      <td>NaN</td>\n",
       "    </tr>\n",
       "    <tr>\n",
       "      <th>35586</th>\n",
       "      <td>False</td>\n",
       "      <td>NaN</td>\n",
       "      <td>0</td>\n",
       "      <td>[{'id': 10770, 'name': 'TV Movie'}, {'id': 28,...</td>\n",
       "      <td>NaN</td>\n",
       "      <td>249260</td>\n",
       "      <td>tt2622826</td>\n",
       "      <td>en</td>\n",
       "      <td>Avalanche Sharks</td>\n",
       "      <td>A group of skiers are terrorized during spring...</td>\n",
       "      <td>NaN</td>\n",
       "      <td>NaN</td>\n",
       "      <td>NaN</td>\n",
       "      <td>NaN</td>\n",
       "      <td>NaN</td>\n",
       "      <td>NaN</td>\n",
       "      <td>NaN</td>\n",
       "      <td>NaN</td>\n",
       "      <td>NaN</td>\n",
       "      <td>NaN</td>\n",
       "      <td>NaN</td>\n",
       "      <td>NaN</td>\n",
       "      <td>NaN</td>\n",
       "      <td>NaN</td>\n",
       "    </tr>\n",
       "    <tr>\n",
       "      <th>35587</th>\n",
       "      <td>Avalanche Sharks tells the story of a bikini ...</td>\n",
       "      <td>2.185485</td>\n",
       "      <td>/zaSf5OG7V8X8gqFvly88zDdRm46.jpg</td>\n",
       "      <td>[{'name': 'Odyssey Media', 'id': 17161}, {'nam...</td>\n",
       "      <td>[{'iso_3166_1': 'CA', 'name': 'Canada'}]</td>\n",
       "      <td>2014-01-01</td>\n",
       "      <td>0</td>\n",
       "      <td>82.0</td>\n",
       "      <td>[{'iso_639_1': 'en', 'name': 'English'}]</td>\n",
       "      <td>Released</td>\n",
       "      <td>Beware Of Frost Bites</td>\n",
       "      <td>Avalanche Sharks</td>\n",
       "      <td>False</td>\n",
       "      <td>4.3</td>\n",
       "      <td>22</td>\n",
       "      <td>NaN</td>\n",
       "      <td>NaN</td>\n",
       "      <td>NaN</td>\n",
       "      <td>NaN</td>\n",
       "      <td>NaN</td>\n",
       "      <td>NaN</td>\n",
       "      <td>NaN</td>\n",
       "      <td>NaN</td>\n",
       "      <td>NaN</td>\n",
       "    </tr>\n",
       "  </tbody>\n",
       "</table>\n",
       "</div>"
      ],
      "text/plain": [
       "                                                   adult  \\\n",
       "19729                                              False   \n",
       "19730                                 - Written by Ørnås   \n",
       "29502                                              False   \n",
       "29503   Rune Balot goes to a casino connected to the ...   \n",
       "35586                                              False   \n",
       "35587   Avalanche Sharks tells the story of a bikini ...   \n",
       "\n",
       "                                   belongs_to_collection  \\\n",
       "19729                                                NaN   \n",
       "19730                                           0.065736   \n",
       "29502  {'id': 122661, 'name': 'Mardock Scramble Colle...   \n",
       "29503                                           1.931659   \n",
       "35586                                                NaN   \n",
       "35587                                           2.185485   \n",
       "\n",
       "                                 budget  \\\n",
       "19729                                 0   \n",
       "19730  /ff9qCepilowshEtG2GYWwzt2bs4.jpg   \n",
       "29502                                 0   \n",
       "29503  /zV8bHuSL6WXoD6FWogP9j4x80bL.jpg   \n",
       "35586                                 0   \n",
       "35587  /zaSf5OG7V8X8gqFvly88zDdRm46.jpg   \n",
       "\n",
       "                                                  genres  \\\n",
       "19729  [{'id': 28, 'name': 'Action'}, {'id': 53, 'nam...   \n",
       "19730  [{'name': 'Carousel Productions', 'id': 11176}...   \n",
       "29502  [{'id': 16, 'name': 'Animation'}, {'id': 878, ...   \n",
       "29503  [{'name': 'Aniplex', 'id': 2883}, {'name': 'Go...   \n",
       "35586  [{'id': 10770, 'name': 'TV Movie'}, {'id': 28,...   \n",
       "35587  [{'name': 'Odyssey Media', 'id': 17161}, {'nam...   \n",
       "\n",
       "                                                homepage          id  \\\n",
       "19729                                                NaN       82663   \n",
       "19730  [{'iso_3166_1': 'CA', 'name': 'Canada'}, {'iso...  1997-08-20   \n",
       "29502                      http://m-scramble.jp/exhaust/      122662   \n",
       "29503  [{'iso_3166_1': 'US', 'name': 'United States o...  2012-09-29   \n",
       "35586                                                NaN      249260   \n",
       "35587           [{'iso_3166_1': 'CA', 'name': 'Canada'}]  2014-01-01   \n",
       "\n",
       "         imdb_id original_language                            original_title  \\\n",
       "19729  tt0113002                en                              Midnight Man   \n",
       "19730          0             104.0  [{'iso_639_1': 'en', 'name': 'English'}]   \n",
       "29502  tt2423504                ja                          マルドゥック・スクランブル 排気   \n",
       "29503          0              68.0      [{'iso_639_1': 'ja', 'name': '日本語'}]   \n",
       "35586  tt2622826                en                          Avalanche Sharks   \n",
       "35587          0              82.0  [{'iso_639_1': 'en', 'name': 'English'}]   \n",
       "\n",
       "                                                overview  \\\n",
       "19729  British soldiers force a recently captured IRA...   \n",
       "19730                                           Released   \n",
       "29502         Third film of the Mardock Scramble series.   \n",
       "29503                                           Released   \n",
       "35586  A group of skiers are terrorized during spring...   \n",
       "35587                                           Released   \n",
       "\n",
       "                  popularity                          poster_path  \\\n",
       "19729                    NaN                                  NaN   \n",
       "19730                    NaN                         Midnight Man   \n",
       "29502                    NaN                                  NaN   \n",
       "29503                    NaN  Mardock Scramble: The Third Exhaust   \n",
       "35586                    NaN                                  NaN   \n",
       "35587  Beware Of Frost Bites                     Avalanche Sharks   \n",
       "\n",
       "      production_companies production_countries release_date  revenue  \\\n",
       "19729                  NaN                  NaN          NaN      NaN   \n",
       "19730                False                  6.0            1      NaN   \n",
       "29502                  NaN                  NaN          NaN      NaN   \n",
       "29503                False                  7.0           12      NaN   \n",
       "35586                  NaN                  NaN          NaN      NaN   \n",
       "35587                False                  4.3           22      NaN   \n",
       "\n",
       "       runtime spoken_languages status tagline title video  vote_average  \\\n",
       "19729      NaN              NaN    NaN     NaN   NaN   NaN           NaN   \n",
       "19730      NaN              NaN    NaN     NaN   NaN   NaN           NaN   \n",
       "29502      NaN              NaN    NaN     NaN   NaN   NaN           NaN   \n",
       "29503      NaN              NaN    NaN     NaN   NaN   NaN           NaN   \n",
       "35586      NaN              NaN    NaN     NaN   NaN   NaN           NaN   \n",
       "35587      NaN              NaN    NaN     NaN   NaN   NaN           NaN   \n",
       "\n",
       "       vote_count  \n",
       "19729         NaN  \n",
       "19730         NaN  \n",
       "29502         NaN  \n",
       "29503         NaN  \n",
       "35586         NaN  \n",
       "35587         NaN  "
      ]
     },
     "execution_count": 87,
     "metadata": {},
     "output_type": "execute_result"
    }
   ],
   "source": [
    "movies_raw_csv[movies_raw_csv['title'].isnull()]"
   ]
  },
  {
   "cell_type": "markdown",
   "metadata": {},
   "source": [
    "Valores nulos"
   ]
  },
  {
   "cell_type": "markdown",
   "metadata": {},
   "source": [
    "Estas 6 filas también se eliminaran ya que la mayoría de sus datos son nulos o inconsistentes."
   ]
  },
  {
   "cell_type": "code",
   "execution_count": 88,
   "metadata": {},
   "outputs": [
    {
     "data": {
      "text/plain": [
       "Int64Index([19729, 19730, 29502, 29503, 35586, 35587], dtype='int64')"
      ]
     },
     "execution_count": 88,
     "metadata": {},
     "output_type": "execute_result"
    }
   ],
   "source": [
    "indice = movies_raw_csv[movies_raw_csv['title'].isnull()].index\n",
    "indice"
   ]
  },
  {
   "cell_type": "code",
   "execution_count": 89,
   "metadata": {},
   "outputs": [],
   "source": [
    "movies_df = movies_raw_csv.drop(index=indice, inplace=False)"
   ]
  },
  {
   "cell_type": "code",
   "execution_count": 90,
   "metadata": {},
   "outputs": [
    {
     "data": {
      "text/plain": [
       "(45466, 24)"
      ]
     },
     "execution_count": 90,
     "metadata": {},
     "output_type": "execute_result"
    }
   ],
   "source": [
    "movies_raw_csv.shape"
   ]
  },
  {
   "cell_type": "code",
   "execution_count": 91,
   "metadata": {},
   "outputs": [
    {
     "data": {
      "text/plain": [
       "(45460, 24)"
      ]
     },
     "execution_count": 91,
     "metadata": {},
     "output_type": "execute_result"
    }
   ],
   "source": [
    "#Comprobamos que se eliminaron las 6 filas.\n",
    "movies_df.shape"
   ]
  },
  {
   "cell_type": "markdown",
   "metadata": {},
   "source": [
    "Valores duplicados"
   ]
  },
  {
   "cell_type": "code",
   "execution_count": 92,
   "metadata": {},
   "outputs": [
    {
     "data": {
      "text/plain": [
       "33"
      ]
     },
     "execution_count": 92,
     "metadata": {},
     "output_type": "execute_result"
    }
   ],
   "source": [
    "#filas duplicadas\n",
    "(\n",
    "    movies_df\n",
    "    .duplicated(keep=False)\n",
    "    .sum()\n",
    ")"
   ]
  },
  {
   "cell_type": "code",
   "execution_count": 93,
   "metadata": {},
   "outputs": [],
   "source": [
    "#Eliminamos las filas duplicadas\n",
    "movies_df = movies_df.drop_duplicates()"
   ]
  },
  {
   "cell_type": "code",
   "execution_count": 94,
   "metadata": {},
   "outputs": [
    {
     "data": {
      "text/plain": [
       "26"
      ]
     },
     "execution_count": 94,
     "metadata": {},
     "output_type": "execute_result"
    }
   ],
   "source": [
    "# Filas con campo id duplicado /  Una misma pelicula aparece varias veces en el dataframe.\n",
    "(\n",
    "    movies_df\n",
    "    .duplicated(subset='id',keep=False)\n",
    "    .sum()\n",
    ")"
   ]
  },
  {
   "cell_type": "code",
   "execution_count": 95,
   "metadata": {},
   "outputs": [
    {
     "data": {
      "text/plain": [
       "(26, 24)"
      ]
     },
     "execution_count": 95,
     "metadata": {},
     "output_type": "execute_result"
    }
   ],
   "source": [
    "movies_df[movies_df.duplicated(subset='id',keep=False)].sort_values(['id', 'vote_count']).shape"
   ]
  },
  {
   "cell_type": "markdown",
   "metadata": {},
   "source": [
    "Tenemos 26 filas que poseen el mismo 'id'"
   ]
  },
  {
   "cell_type": "code",
   "execution_count": 96,
   "metadata": {},
   "outputs": [
    {
     "data": {
      "text/plain": [
       "status\n",
       "Released           44998\n",
       "Rumored              229\n",
       "Post Production       98\n",
       "In Production         20\n",
       "Planned               15\n",
       "Canceled               2\n",
       "dtype: int64"
      ]
     },
     "execution_count": 96,
     "metadata": {},
     "output_type": "execute_result"
    }
   ],
   "source": [
    "movies_df.value_counts('status',sort=True)"
   ]
  },
  {
   "cell_type": "markdown",
   "metadata": {},
   "source": [
    "Trabajaremos solo con las peliculas que ya fueron estrenadas"
   ]
  },
  {
   "cell_type": "code",
   "execution_count": 97,
   "metadata": {},
   "outputs": [],
   "source": [
    "movies_df = movies_df[movies_df.status == 'Released']"
   ]
  },
  {
   "cell_type": "code",
   "execution_count": 98,
   "metadata": {},
   "outputs": [],
   "source": [
    "#cambiamos el nombre de la columna id a id_movie\n",
    "movies_df = movies_df.rename({'id': 'id_movie'}, axis=1)"
   ]
  },
  {
   "cell_type": "code",
   "execution_count": 99,
   "metadata": {},
   "outputs": [],
   "source": [
    "#Nos aseguramos que los títulos se encuentren en formato .title\n",
    "movies_df['title'] = movies_df['title'].apply(lambda x: x.title())"
   ]
  },
  {
   "cell_type": "code",
   "execution_count": 100,
   "metadata": {},
   "outputs": [],
   "source": [
    "movies_df = movies_df.sort_values(['id_movie', 'vote_count'])"
   ]
  },
  {
   "cell_type": "code",
   "execution_count": 101,
   "metadata": {},
   "outputs": [],
   "source": [
    "# Visualizar las filas con ids duplicados\n",
    "# movies_df[movies_df.duplicated(subset='id_movie',keep=False)]"
   ]
  },
  {
   "cell_type": "code",
   "execution_count": 102,
   "metadata": {},
   "outputs": [],
   "source": [
    "#Eliminamos las filas con ids duplicados manteniendo la que posee mayor popularidad\n",
    "movies_df = movies_df.drop_duplicates(subset='id_movie',keep='first')"
   ]
  },
  {
   "cell_type": "markdown",
   "metadata": {},
   "source": [
    "------------------"
   ]
  },
  {
   "cell_type": "markdown",
   "metadata": {},
   "source": [
    "# Requerimientos\n",
    "\n",
    "Se solicitan los siguientes requerimientos:\n",
    "\n",
    "1- (x) Eliminar las columnas que no serán utilizadas, video,imdb_id,adult,original_title,poster_path y homepage. \n",
    "\n",
    "2- (X) Los valores nulos de los campos revenue, budget deben ser rellenados por el número 0.\n",
    "\n",
    "3- (x) Los valores nulos del campo release date deben eliminarse.\n",
    "\n",
    "4- (x) Crear la columna con el retorno de inversión, llamada return con los campos revenue y budget, dividiendo estas dos últimas revenue / budget, cuando no hay datos disponibles para calcularlo, deberá tomar el valor 0.\n",
    "\n",
    "5- (x) De haber fechas, deberán tener el formato AAAA-mm-dd, además deberán crear la columna release_year donde extraerán el año de la fecha de estreno.\n",
    "\n",
    "6- Algunos campos, como belongs_to_collection, production_companies y otros (ver diccionario de datos) están anidados, esto es o bien tienen un diccionario o una lista como valores en cada fila, ¡deberán desanidarlos y unirlos al dataset de nuevo para hacer alguna de las consultas de la API! O bien buscar la manera de acceder a esos datos sin desanidarlos."
   ]
  },
  {
   "cell_type": "markdown",
   "metadata": {},
   "source": [
    "----------------"
   ]
  },
  {
   "cell_type": "markdown",
   "metadata": {},
   "source": [
    "1- Eliminar las columnas video, imdb_id,adult, original_title, poster_path y homepage. "
   ]
  },
  {
   "cell_type": "code",
   "execution_count": 103,
   "metadata": {},
   "outputs": [
    {
     "data": {
      "text/plain": [
       "Index(['adult', 'belongs_to_collection', 'budget', 'genres', 'homepage',\n",
       "       'id_movie', 'imdb_id', 'original_language', 'original_title',\n",
       "       'overview', 'popularity', 'poster_path', 'production_companies',\n",
       "       'production_countries', 'release_date', 'revenue', 'runtime',\n",
       "       'spoken_languages', 'status', 'tagline', 'title', 'video',\n",
       "       'vote_average', 'vote_count'],\n",
       "      dtype='object')"
      ]
     },
     "execution_count": 103,
     "metadata": {},
     "output_type": "execute_result"
    }
   ],
   "source": [
    "movies_df.columns"
   ]
  },
  {
   "cell_type": "code",
   "execution_count": 104,
   "metadata": {},
   "outputs": [],
   "source": [
    "movies_df = movies_df[['id_movie','title','tagline','overview','genres','runtime', 'release_date', 'status',\n",
    "                 'belongs_to_collection',\n",
    "                 'original_language', 'spoken_languages',\n",
    "                 'production_companies', 'production_countries',\n",
    "                 'popularity','vote_average', 'vote_count',\n",
    "                 'budget','revenue'\n",
    "]]"
   ]
  },
  {
   "cell_type": "code",
   "execution_count": 105,
   "metadata": {},
   "outputs": [
    {
     "name": "stdout",
     "output_type": "stream",
     "text": [
      "Ahora tenemos un df de 44985 filas y 18 columnas.\n"
     ]
    }
   ],
   "source": [
    "print(f'Ahora tenemos un df de {movies_df.shape[0]} filas y {movies_df.shape[1]} columnas.')"
   ]
  },
  {
   "cell_type": "markdown",
   "metadata": {},
   "source": [
    "-------------------"
   ]
  },
  {
   "cell_type": "markdown",
   "metadata": {},
   "source": [
    "2- Los valores nulos de los campos revenue, budget deben ser rellenados por el número 0."
   ]
  },
  {
   "cell_type": "code",
   "execution_count": 106,
   "metadata": {},
   "outputs": [],
   "source": [
    "movies_df['budget'].fillna(0, inplace=True)\n",
    "movies_df['revenue'].fillna(0, inplace=True)"
   ]
  },
  {
   "cell_type": "markdown",
   "metadata": {},
   "source": [
    "---"
   ]
  },
  {
   "cell_type": "markdown",
   "metadata": {},
   "source": [
    "3- Los valores nulos del campo release date deben eliminarse."
   ]
  },
  {
   "cell_type": "code",
   "execution_count": 107,
   "metadata": {},
   "outputs": [
    {
     "data": {
      "text/plain": [
       "78"
      ]
     },
     "execution_count": 107,
     "metadata": {},
     "output_type": "execute_result"
    }
   ],
   "source": [
    "(\n",
    "    movies_df\n",
    "    .release_date\n",
    "    .isnull()\n",
    "    .sum()\n",
    ")"
   ]
  },
  {
   "cell_type": "code",
   "execution_count": 108,
   "metadata": {},
   "outputs": [
    {
     "data": {
      "text/plain": [
       "<seaborn.axisgrid.FacetGrid at 0x2639145d250>"
      ]
     },
     "execution_count": 108,
     "metadata": {},
     "output_type": "execute_result"
    },
    {
     "data": {
      "image/png": "[encoded data removed]",
      "text/plain": [
       "<Figure size 1084.88x500 with 1 Axes>"
      ]
     },
     "metadata": {},
     "output_type": "display_data"
    }
   ],
   "source": [
    "(\n",
    "    movies_df\n",
    "    .isnull()\n",
    "    .melt()\n",
    "    .pipe(\n",
    "        lambda df : (\n",
    "            sns.displot(\n",
    "                data = df,\n",
    "                y ='variable',\n",
    "                hue ='value',\n",
    "                multiple = 'fill',\n",
    "                aspect = 2 )\n",
    "        )\n",
    "    )\n",
    ")\n"
   ]
  },
  {
   "cell_type": "markdown",
   "metadata": {},
   "source": [
    "Solo 84 filas poseen valores nulos en release_date, estas representan menos del 1% por lo que procederemos a eliminarlas."
   ]
  },
  {
   "cell_type": "code",
   "execution_count": 109,
   "metadata": {},
   "outputs": [
    {
     "data": {
      "text/plain": [
       "(44985, 18)"
      ]
     },
     "execution_count": 109,
     "metadata": {},
     "output_type": "execute_result"
    }
   ],
   "source": [
    "movies_df.shape"
   ]
  },
  {
   "cell_type": "code",
   "execution_count": 110,
   "metadata": {},
   "outputs": [],
   "source": [
    "movies_df = movies_df.dropna(subset='release_date')"
   ]
  },
  {
   "cell_type": "code",
   "execution_count": 111,
   "metadata": {},
   "outputs": [
    {
     "data": {
      "text/plain": [
       "(44907, 18)"
      ]
     },
     "execution_count": 111,
     "metadata": {},
     "output_type": "execute_result"
    }
   ],
   "source": [
    "movies_df.shape"
   ]
  },
  {
   "cell_type": "markdown",
   "metadata": {},
   "source": [
    "---------------"
   ]
  },
  {
   "cell_type": "markdown",
   "metadata": {},
   "source": [
    "4- Crear la columna con el retorno de inversión, llamada return con los campos revenue y budget, dividiendo estas dos últimas revenue / budget, cuando no hay datos disponibles para calcularlo, deberá tomar el valor 0."
   ]
  },
  {
   "cell_type": "code",
   "execution_count": 112,
   "metadata": {},
   "outputs": [],
   "source": [
    "# funcion que permite calcular el return\n",
    "def ret(df,col1,col2):\n",
    "    if df[col1] == 0:\n",
    "        out = 0\n",
    "\n",
    "    else:    \n",
    "        out = df[col2] / df[col1]\n",
    "    return out\n"
   ]
  },
  {
   "cell_type": "code",
   "execution_count": 113,
   "metadata": {},
   "outputs": [
    {
     "data": {
      "text/plain": [
       "Series([], Name: budget, dtype: object)"
      ]
     },
     "execution_count": 113,
     "metadata": {},
     "output_type": "execute_result"
    }
   ],
   "source": [
    "movies_df.budget[~movies_df.budget.str.contains('[0-9]')]"
   ]
  },
  {
   "cell_type": "code",
   "execution_count": 114,
   "metadata": {},
   "outputs": [],
   "source": [
    "# corregimos el tipo de las columnas budget y revenue y nos aseguramos re remplazar los valores nulos de budget por 0\n",
    "movies_df['budget'] = movies_df['budget'].astype(float)\n",
    "movies_df['revenue'] = movies_df['revenue'].astype(float)\n",
    "\n",
    "# creamos la columna return\n",
    "movies_df.insert(movies_df.columns.get_loc('revenue') + 1, 'return', movies_df.apply(ret,axis=1,args={'budget','revenue'}))\n"
   ]
  },
  {
   "cell_type": "markdown",
   "metadata": {},
   "source": [
    "------------"
   ]
  },
  {
   "cell_type": "markdown",
   "metadata": {},
   "source": [
    "5- De haber fechas, deberán tener el formato AAAA-mm-dd, además deberán crear la columna release_year donde extraerán el año de la fecha de estreno."
   ]
  },
  {
   "cell_type": "code",
   "execution_count": 115,
   "metadata": {},
   "outputs": [],
   "source": [
    "#cambiamos los tipos de datos de la columna 'release_date'\n",
    "movies_df['release_date'] = pd.to_datetime(movies_df['release_date'], format='%Y-%m-%d',yearfirst=True, errors='coerce')"
   ]
  },
  {
   "cell_type": "code",
   "execution_count": 116,
   "metadata": {},
   "outputs": [],
   "source": [
    "#Creamos la columna 'release_year'\n",
    "movies_df.insert(movies_df.columns.get_loc('release_date') + 1, 'release_year', movies_df['release_date'].dt.year)"
   ]
  },
  {
   "cell_type": "code",
   "execution_count": 117,
   "metadata": {},
   "outputs": [],
   "source": [
    "# movies_df.head(2)"
   ]
  },
  {
   "cell_type": "markdown",
   "metadata": {},
   "source": [
    "------------"
   ]
  },
  {
   "cell_type": "markdown",
   "metadata": {},
   "source": [
    "6- Algunos campos, como belongs_to_collection, production_companies y otros (ver diccionario de datos) están anidados, esto es o bien tienen un diccionario o una lista como valores en cada fila, ¡deberán desanidarlos y unirlos al dataset de nuevo para hacer alguna de las consultas de la API! O bien buscar la manera de acceder a esos datos sin desanidarlos.."
   ]
  },
  {
   "cell_type": "markdown",
   "metadata": {},
   "source": [
    "Como se mencionó anteriormente, las columnas que poseen datos anidados son: 'belongs_to_collection', 'genres', 'production_companies','production_countries' y 'spoken_languages'\n",
    "\n",
    "Consideraciones:\n",
    "\n",
    "(x) Para la función peliculas_idioma nos piden devolver la cantidad de películas producidas en ese idioma. Por lo que no utilizaremos la columna spoken_language y será eliminada.\n",
    "\n",
    "(x) Para la función peliculas_duracion utilizaremos la columna runtime\n",
    "\n",
    "(x) Para la funcion franquicia deberemos desanidar la columna belongs_to_collection\n",
    "\n",
    "(x) Para la función pais deberemos desanidar la columna production_countries\n",
    "\n",
    "(x) Para la función productoras_exitosas deberemos desanidar la columna production_companies\n",
    "\n",
    "(x)La columna genres la utilizaremos para el sistema de recomendacion por lo que la deberemos desanidar.\n",
    "\n",
    "(x) Para la función get_director deberemos usar el dataset credits. (ver etl_credists.ipynb)"
   ]
  },
  {
   "cell_type": "markdown",
   "metadata": {},
   "source": [
    "índice de tablas:\n",
    "- Tabla Collections\n",
    "- Tabla genres\n",
    "- Tabla movies"
   ]
  },
  {
   "cell_type": "markdown",
   "metadata": {},
   "source": [
    "----"
   ]
  },
  {
   "cell_type": "markdown",
   "metadata": {},
   "source": [
    "Error al cargar la columna runtime en sql"
   ]
  },
  {
   "cell_type": "code",
   "execution_count": 118,
   "metadata": {},
   "outputs": [
    {
     "data": {
      "text/html": [
       "<div>\n",
       "<style scoped>\n",
       "    .dataframe tbody tr th:only-of-type {\n",
       "        vertical-align: middle;\n",
       "    }\n",
       "\n",
       "    .dataframe tbody tr th {\n",
       "        vertical-align: top;\n",
       "    }\n",
       "\n",
       "    .dataframe thead th {\n",
       "        text-align: right;\n",
       "    }\n",
       "</style>\n",
       "<table border=\"1\" class=\"dataframe\">\n",
       "  <thead>\n",
       "    <tr style=\"text-align: right;\">\n",
       "      <th></th>\n",
       "      <th>id_movie</th>\n",
       "      <th>title</th>\n",
       "      <th>tagline</th>\n",
       "      <th>overview</th>\n",
       "      <th>genres</th>\n",
       "      <th>runtime</th>\n",
       "      <th>release_date</th>\n",
       "      <th>release_year</th>\n",
       "      <th>status</th>\n",
       "      <th>belongs_to_collection</th>\n",
       "      <th>original_language</th>\n",
       "      <th>spoken_languages</th>\n",
       "      <th>production_companies</th>\n",
       "      <th>production_countries</th>\n",
       "      <th>popularity</th>\n",
       "      <th>vote_average</th>\n",
       "      <th>vote_count</th>\n",
       "      <th>budget</th>\n",
       "      <th>revenue</th>\n",
       "      <th>return</th>\n",
       "    </tr>\n",
       "  </thead>\n",
       "  <tbody>\n",
       "    <tr>\n",
       "      <th>41922</th>\n",
       "      <td>392832</td>\n",
       "      <td>Nemiche Per La Pelle</td>\n",
       "      <td>NaN</td>\n",
       "      <td>NaN</td>\n",
       "      <td>[{'id': 35, 'name': 'Comedy'}]</td>\n",
       "      <td>NaN</td>\n",
       "      <td>2016-04-14</td>\n",
       "      <td>2016</td>\n",
       "      <td>Released</td>\n",
       "      <td>NaN</td>\n",
       "      <td>it</td>\n",
       "      <td>[{'iso_639_1': 'it', 'name': 'Italiano'}]</td>\n",
       "      <td>[]</td>\n",
       "      <td>[{'iso_3166_1': 'IT', 'name': 'Italy'}]</td>\n",
       "      <td>1.504535</td>\n",
       "      <td>5.7</td>\n",
       "      <td>31.0</td>\n",
       "      <td>0.0</td>\n",
       "      <td>0.0</td>\n",
       "      <td>0.0</td>\n",
       "    </tr>\n",
       "    <tr>\n",
       "      <th>31556</th>\n",
       "      <td>270479</td>\n",
       "      <td>Ammutta Muddica Al Cinema</td>\n",
       "      <td>NaN</td>\n",
       "      <td>NaN</td>\n",
       "      <td>[{'id': 35, 'name': 'Comedy'}]</td>\n",
       "      <td>NaN</td>\n",
       "      <td>2013-10-16</td>\n",
       "      <td>2013</td>\n",
       "      <td>Released</td>\n",
       "      <td>NaN</td>\n",
       "      <td>it</td>\n",
       "      <td>[]</td>\n",
       "      <td>[]</td>\n",
       "      <td>[{'iso_3166_1': 'IT', 'name': 'Italy'}]</td>\n",
       "      <td>1.793601</td>\n",
       "      <td>6.3</td>\n",
       "      <td>43.0</td>\n",
       "      <td>0.0</td>\n",
       "      <td>0.0</td>\n",
       "      <td>0.0</td>\n",
       "    </tr>\n",
       "    <tr>\n",
       "      <th>42149</th>\n",
       "      <td>428645</td>\n",
       "      <td>Eu Fico Loko</td>\n",
       "      <td>NaN</td>\n",
       "      <td>NaN</td>\n",
       "      <td>[{'id': 35, 'name': 'Comedy'}]</td>\n",
       "      <td>NaN</td>\n",
       "      <td>2017-01-12</td>\n",
       "      <td>2017</td>\n",
       "      <td>Released</td>\n",
       "      <td>NaN</td>\n",
       "      <td>pt</td>\n",
       "      <td>[{'iso_639_1': 'pt', 'name': 'Português'}]</td>\n",
       "      <td>[{'name': 'Downtown Filmes', 'id': 5591}]</td>\n",
       "      <td>[{'iso_3166_1': 'BR', 'name': 'Brazil'}]</td>\n",
       "      <td>1.948382</td>\n",
       "      <td>8.3</td>\n",
       "      <td>22.0</td>\n",
       "      <td>2500000.0</td>\n",
       "      <td>0.0</td>\n",
       "      <td>0.0</td>\n",
       "    </tr>\n",
       "    <tr>\n",
       "      <th>43681</th>\n",
       "      <td>191486</td>\n",
       "      <td>Поезд Вне Расписания</td>\n",
       "      <td>NaN</td>\n",
       "      <td>NaN</td>\n",
       "      <td>[]</td>\n",
       "      <td>NaN</td>\n",
       "      <td>1986-05-12</td>\n",
       "      <td>1986</td>\n",
       "      <td>Released</td>\n",
       "      <td>NaN</td>\n",
       "      <td>ru</td>\n",
       "      <td>[]</td>\n",
       "      <td>[]</td>\n",
       "      <td>[]</td>\n",
       "      <td>1e-06</td>\n",
       "      <td>4.5</td>\n",
       "      <td>2.0</td>\n",
       "      <td>0.0</td>\n",
       "      <td>0.0</td>\n",
       "      <td>0.0</td>\n",
       "    </tr>\n",
       "    <tr>\n",
       "      <th>37813</th>\n",
       "      <td>177714</td>\n",
       "      <td>Mágica Aventura</td>\n",
       "      <td>NaN</td>\n",
       "      <td>NaN</td>\n",
       "      <td>[]</td>\n",
       "      <td>NaN</td>\n",
       "      <td>1973-06-09</td>\n",
       "      <td>1973</td>\n",
       "      <td>Released</td>\n",
       "      <td>NaN</td>\n",
       "      <td>es</td>\n",
       "      <td>[{'iso_639_1': 'es', 'name': 'Español'}]</td>\n",
       "      <td>[{'name': 'Estudios Cruz Delgado', 'id': 13588}]</td>\n",
       "      <td>[{'iso_3166_1': 'ES', 'name': 'Spain'}]</td>\n",
       "      <td>1e-06</td>\n",
       "      <td>0.0</td>\n",
       "      <td>0.0</td>\n",
       "      <td>0.0</td>\n",
       "      <td>0.0</td>\n",
       "      <td>0.0</td>\n",
       "    </tr>\n",
       "    <tr>\n",
       "      <th>35491</th>\n",
       "      <td>298722</td>\n",
       "      <td>Soap Opera</td>\n",
       "      <td>NaN</td>\n",
       "      <td>NaN</td>\n",
       "      <td>[{'id': 35, 'name': 'Comedy'}]</td>\n",
       "      <td>NaN</td>\n",
       "      <td>2014-10-23</td>\n",
       "      <td>2014</td>\n",
       "      <td>Released</td>\n",
       "      <td>NaN</td>\n",
       "      <td>it</td>\n",
       "      <td>[]</td>\n",
       "      <td>[{'name': 'Medusa Film', 'id': 6246}, {'name':...</td>\n",
       "      <td>[{'iso_3166_1': 'IT', 'name': 'Italy'}]</td>\n",
       "      <td>2.012232</td>\n",
       "      <td>5.3</td>\n",
       "      <td>46.0</td>\n",
       "      <td>0.0</td>\n",
       "      <td>0.0</td>\n",
       "      <td>0.0</td>\n",
       "    </tr>\n",
       "    <tr>\n",
       "      <th>41372</th>\n",
       "      <td>216647</td>\n",
       "      <td>Aschenputtel</td>\n",
       "      <td>NaN</td>\n",
       "      <td>NaN</td>\n",
       "      <td>[]</td>\n",
       "      <td>NaN</td>\n",
       "      <td>1989-01-01</td>\n",
       "      <td>1989</td>\n",
       "      <td>Released</td>\n",
       "      <td>NaN</td>\n",
       "      <td>de</td>\n",
       "      <td>[{'iso_639_1': 'de', 'name': 'Deutsch'}]</td>\n",
       "      <td>[]</td>\n",
       "      <td>[]</td>\n",
       "      <td>2.1e-05</td>\n",
       "      <td>0.0</td>\n",
       "      <td>0.0</td>\n",
       "      <td>0.0</td>\n",
       "      <td>0.0</td>\n",
       "      <td>0.0</td>\n",
       "    </tr>\n",
       "    <tr>\n",
       "      <th>45062</th>\n",
       "      <td>382995</td>\n",
       "      <td>George !</td>\n",
       "      <td>NaN</td>\n",
       "      <td>NaN</td>\n",
       "      <td>[{'id': 10751, 'name': 'Family'}, {'id': 35, '...</td>\n",
       "      <td>NaN</td>\n",
       "      <td>1972-06-03</td>\n",
       "      <td>1972</td>\n",
       "      <td>Released</td>\n",
       "      <td>NaN</td>\n",
       "      <td>en</td>\n",
       "      <td>[{'iso_639_1': 'en', 'name': 'English'}]</td>\n",
       "      <td>[{'name': 'Capital Films', 'id': 9290}]</td>\n",
       "      <td>[{'iso_3166_1': 'US', 'name': 'United States o...</td>\n",
       "      <td>3e-06</td>\n",
       "      <td>0.0</td>\n",
       "      <td>0.0</td>\n",
       "      <td>0.0</td>\n",
       "      <td>0.0</td>\n",
       "      <td>0.0</td>\n",
       "    </tr>\n",
       "    <tr>\n",
       "      <th>32508</th>\n",
       "      <td>316170</td>\n",
       "      <td>Uomo E Galantuomo</td>\n",
       "      <td>NaN</td>\n",
       "      <td>NaN</td>\n",
       "      <td>[{'id': 35, 'name': 'Comedy'}]</td>\n",
       "      <td>NaN</td>\n",
       "      <td>1975-12-26</td>\n",
       "      <td>1975</td>\n",
       "      <td>Released</td>\n",
       "      <td>NaN</td>\n",
       "      <td>it</td>\n",
       "      <td>[{'iso_639_1': 'it', 'name': 'Italiano'}]</td>\n",
       "      <td>[{'name': 'RAI', 'id': 1583}]</td>\n",
       "      <td>[{'iso_3166_1': 'IT', 'name': 'Italy'}]</td>\n",
       "      <td>5.3e-05</td>\n",
       "      <td>0.0</td>\n",
       "      <td>0.0</td>\n",
       "      <td>0.0</td>\n",
       "      <td>0.0</td>\n",
       "      <td>0.0</td>\n",
       "    </tr>\n",
       "    <tr>\n",
       "      <th>25677</th>\n",
       "      <td>197335</td>\n",
       "      <td>Se Tutto Va Bene Siamo Rovinati</td>\n",
       "      <td>NaN</td>\n",
       "      <td>NaN</td>\n",
       "      <td>[{'id': 35, 'name': 'Comedy'}]</td>\n",
       "      <td>NaN</td>\n",
       "      <td>1983-12-29</td>\n",
       "      <td>1983</td>\n",
       "      <td>Released</td>\n",
       "      <td>NaN</td>\n",
       "      <td>it</td>\n",
       "      <td>[{'iso_639_1': 'it', 'name': 'Italiano'}]</td>\n",
       "      <td>[]</td>\n",
       "      <td>[]</td>\n",
       "      <td>9.4e-05</td>\n",
       "      <td>0.0</td>\n",
       "      <td>0.0</td>\n",
       "      <td>0.0</td>\n",
       "      <td>0.0</td>\n",
       "      <td>0.0</td>\n",
       "    </tr>\n",
       "  </tbody>\n",
       "</table>\n",
       "</div>"
      ],
      "text/plain": [
       "      id_movie                            title tagline overview  \\\n",
       "41922   392832             Nemiche Per La Pelle     NaN      NaN   \n",
       "31556   270479        Ammutta Muddica Al Cinema     NaN      NaN   \n",
       "42149   428645                     Eu Fico Loko     NaN      NaN   \n",
       "43681   191486             Поезд Вне Расписания     NaN      NaN   \n",
       "37813   177714                  Mágica Aventura     NaN      NaN   \n",
       "35491   298722                       Soap Opera     NaN      NaN   \n",
       "41372   216647                     Aschenputtel     NaN      NaN   \n",
       "45062   382995                         George !     NaN      NaN   \n",
       "32508   316170                Uomo E Galantuomo     NaN      NaN   \n",
       "25677   197335  Se Tutto Va Bene Siamo Rovinati     NaN      NaN   \n",
       "\n",
       "                                                  genres  runtime  \\\n",
       "41922                     [{'id': 35, 'name': 'Comedy'}]      NaN   \n",
       "31556                     [{'id': 35, 'name': 'Comedy'}]      NaN   \n",
       "42149                     [{'id': 35, 'name': 'Comedy'}]      NaN   \n",
       "43681                                                 []      NaN   \n",
       "37813                                                 []      NaN   \n",
       "35491                     [{'id': 35, 'name': 'Comedy'}]      NaN   \n",
       "41372                                                 []      NaN   \n",
       "45062  [{'id': 10751, 'name': 'Family'}, {'id': 35, '...      NaN   \n",
       "32508                     [{'id': 35, 'name': 'Comedy'}]      NaN   \n",
       "25677                     [{'id': 35, 'name': 'Comedy'}]      NaN   \n",
       "\n",
       "      release_date  release_year    status belongs_to_collection  \\\n",
       "41922   2016-04-14          2016  Released                   NaN   \n",
       "31556   2013-10-16          2013  Released                   NaN   \n",
       "42149   2017-01-12          2017  Released                   NaN   \n",
       "43681   1986-05-12          1986  Released                   NaN   \n",
       "37813   1973-06-09          1973  Released                   NaN   \n",
       "35491   2014-10-23          2014  Released                   NaN   \n",
       "41372   1989-01-01          1989  Released                   NaN   \n",
       "45062   1972-06-03          1972  Released                   NaN   \n",
       "32508   1975-12-26          1975  Released                   NaN   \n",
       "25677   1983-12-29          1983  Released                   NaN   \n",
       "\n",
       "      original_language                            spoken_languages  \\\n",
       "41922                it   [{'iso_639_1': 'it', 'name': 'Italiano'}]   \n",
       "31556                it                                          []   \n",
       "42149                pt  [{'iso_639_1': 'pt', 'name': 'Português'}]   \n",
       "43681                ru                                          []   \n",
       "37813                es    [{'iso_639_1': 'es', 'name': 'Español'}]   \n",
       "35491                it                                          []   \n",
       "41372                de    [{'iso_639_1': 'de', 'name': 'Deutsch'}]   \n",
       "45062                en    [{'iso_639_1': 'en', 'name': 'English'}]   \n",
       "32508                it   [{'iso_639_1': 'it', 'name': 'Italiano'}]   \n",
       "25677                it   [{'iso_639_1': 'it', 'name': 'Italiano'}]   \n",
       "\n",
       "                                    production_companies  \\\n",
       "41922                                                 []   \n",
       "31556                                                 []   \n",
       "42149          [{'name': 'Downtown Filmes', 'id': 5591}]   \n",
       "43681                                                 []   \n",
       "37813   [{'name': 'Estudios Cruz Delgado', 'id': 13588}]   \n",
       "35491  [{'name': 'Medusa Film', 'id': 6246}, {'name':...   \n",
       "41372                                                 []   \n",
       "45062            [{'name': 'Capital Films', 'id': 9290}]   \n",
       "32508                      [{'name': 'RAI', 'id': 1583}]   \n",
       "25677                                                 []   \n",
       "\n",
       "                                    production_countries popularity  \\\n",
       "41922            [{'iso_3166_1': 'IT', 'name': 'Italy'}]   1.504535   \n",
       "31556            [{'iso_3166_1': 'IT', 'name': 'Italy'}]   1.793601   \n",
       "42149           [{'iso_3166_1': 'BR', 'name': 'Brazil'}]   1.948382   \n",
       "43681                                                 []      1e-06   \n",
       "37813            [{'iso_3166_1': 'ES', 'name': 'Spain'}]      1e-06   \n",
       "35491            [{'iso_3166_1': 'IT', 'name': 'Italy'}]   2.012232   \n",
       "41372                                                 []    2.1e-05   \n",
       "45062  [{'iso_3166_1': 'US', 'name': 'United States o...      3e-06   \n",
       "32508            [{'iso_3166_1': 'IT', 'name': 'Italy'}]    5.3e-05   \n",
       "25677                                                 []    9.4e-05   \n",
       "\n",
       "       vote_average  vote_count     budget  revenue  return  \n",
       "41922           5.7        31.0        0.0      0.0     0.0  \n",
       "31556           6.3        43.0        0.0      0.0     0.0  \n",
       "42149           8.3        22.0  2500000.0      0.0     0.0  \n",
       "43681           4.5         2.0        0.0      0.0     0.0  \n",
       "37813           0.0         0.0        0.0      0.0     0.0  \n",
       "35491           5.3        46.0        0.0      0.0     0.0  \n",
       "41372           0.0         0.0        0.0      0.0     0.0  \n",
       "45062           0.0         0.0        0.0      0.0     0.0  \n",
       "32508           0.0         0.0        0.0      0.0     0.0  \n",
       "25677           0.0         0.0        0.0      0.0     0.0  "
      ]
     },
     "execution_count": 118,
     "metadata": {},
     "output_type": "execute_result"
    }
   ],
   "source": [
    "movies_df[movies_df.runtime.isna()].sort_values(by='popularity').tail(10)"
   ]
  },
  {
   "cell_type": "markdown",
   "metadata": {},
   "source": [
    "Debido a que estas peliculas datos nulos o 0 en varias de sus columnas y una populridad menor a 2 decidimos eliminarlas."
   ]
  },
  {
   "cell_type": "code",
   "execution_count": 119,
   "metadata": {},
   "outputs": [],
   "source": [
    "movies_df = movies_df[~movies_df.runtime.isna()]"
   ]
  },
  {
   "cell_type": "code",
   "execution_count": 120,
   "metadata": {},
   "outputs": [
    {
     "data": {
      "text/plain": [
       "Index(['id_movie', 'title', 'tagline', 'overview', 'genres', 'runtime',\n",
       "       'release_date', 'release_year', 'status', 'belongs_to_collection',\n",
       "       'original_language', 'spoken_languages', 'production_companies',\n",
       "       'production_countries', 'popularity', 'vote_average', 'vote_count',\n",
       "       'budget', 'revenue', 'return'],\n",
       "      dtype='object')"
      ]
     },
     "execution_count": 120,
     "metadata": {},
     "output_type": "execute_result"
    }
   ],
   "source": [
    "movies_df.columns"
   ]
  },
  {
   "cell_type": "markdown",
   "metadata": {},
   "source": [
    "------"
   ]
  },
  {
   "cell_type": "markdown",
   "metadata": {},
   "source": [
    "# Cración de tablas\n"
   ]
  },
  {
   "cell_type": "markdown",
   "metadata": {},
   "source": [
    "---------"
   ]
  },
  {
   "cell_type": "markdown",
   "metadata": {},
   "source": [
    "# Tabla Collections y movies_collections"
   ]
  },
  {
   "cell_type": "markdown",
   "metadata": {},
   "source": [
    "Creación de la tabla 'collections' la cual contendrá información sobre las colecciones. Columnas: 'id_collection' y 'name_collection'"
   ]
  },
  {
   "cell_type": "code",
   "execution_count": 121,
   "metadata": {},
   "outputs": [
    {
     "data": {
      "text/html": [
       "<div>\n",
       "<style scoped>\n",
       "    .dataframe tbody tr th:only-of-type {\n",
       "        vertical-align: middle;\n",
       "    }\n",
       "\n",
       "    .dataframe tbody tr th {\n",
       "        vertical-align: top;\n",
       "    }\n",
       "\n",
       "    .dataframe thead th {\n",
       "        text-align: right;\n",
       "    }\n",
       "</style>\n",
       "<table border=\"1\" class=\"dataframe\">\n",
       "  <thead>\n",
       "    <tr style=\"text-align: right;\">\n",
       "      <th></th>\n",
       "      <th>belongs_to_collection</th>\n",
       "    </tr>\n",
       "  </thead>\n",
       "  <tbody>\n",
       "    <tr>\n",
       "      <th>2429</th>\n",
       "      <td>NaN</td>\n",
       "    </tr>\n",
       "    <tr>\n",
       "      <th>13609</th>\n",
       "      <td>NaN</td>\n",
       "    </tr>\n",
       "    <tr>\n",
       "      <th>4435</th>\n",
       "      <td>NaN</td>\n",
       "    </tr>\n",
       "    <tr>\n",
       "      <th>17451</th>\n",
       "      <td>NaN</td>\n",
       "    </tr>\n",
       "    <tr>\n",
       "      <th>36946</th>\n",
       "      <td>NaN</td>\n",
       "    </tr>\n",
       "    <tr>\n",
       "      <th>...</th>\n",
       "      <td>...</td>\n",
       "    </tr>\n",
       "    <tr>\n",
       "      <th>25652</th>\n",
       "      <td>NaN</td>\n",
       "    </tr>\n",
       "    <tr>\n",
       "      <th>3767</th>\n",
       "      <td>NaN</td>\n",
       "    </tr>\n",
       "    <tr>\n",
       "      <th>12549</th>\n",
       "      <td>NaN</td>\n",
       "    </tr>\n",
       "    <tr>\n",
       "      <th>25079</th>\n",
       "      <td>NaN</td>\n",
       "    </tr>\n",
       "    <tr>\n",
       "      <th>13106</th>\n",
       "      <td>NaN</td>\n",
       "    </tr>\n",
       "  </tbody>\n",
       "</table>\n",
       "<p>44667 rows × 1 columns</p>\n",
       "</div>"
      ],
      "text/plain": [
       "      belongs_to_collection\n",
       "2429                    NaN\n",
       "13609                   NaN\n",
       "4435                    NaN\n",
       "17451                   NaN\n",
       "36946                   NaN\n",
       "...                     ...\n",
       "25652                   NaN\n",
       "3767                    NaN\n",
       "12549                   NaN\n",
       "25079                   NaN\n",
       "13106                   NaN\n",
       "\n",
       "[44667 rows x 1 columns]"
      ]
     },
     "execution_count": 121,
     "metadata": {},
     "output_type": "execute_result"
    }
   ],
   "source": [
    "movies_df[['belongs_to_collection']]"
   ]
  },
  {
   "cell_type": "code",
   "execution_count": 122,
   "metadata": {},
   "outputs": [
    {
     "name": "stdout",
     "output_type": "stream",
     "text": [
      "1688\n",
      "1688\n"
     ]
    }
   ],
   "source": [
    "print(\n",
    "    movies_df[['belongs_to_collection']]\n",
    "    .dropna()\n",
    "    .drop_duplicates()\n",
    "    .shape[0]\n",
    "    )\n",
    "\n",
    "print(\n",
    "    movies_df[['belongs_to_collection']]\n",
    "    .dropna()\n",
    "    .drop_duplicates()\n",
    "    .explode('belongs_to_collection')\n",
    "    .shape[0]\n",
    "    )\n",
    "\n",
    "\n",
    "    "
   ]
  },
  {
   "cell_type": "code",
   "execution_count": 123,
   "metadata": {},
   "outputs": [],
   "source": [
    "# cremaos la columna 'name_collecction', extraemos sus valores de la columna belongs_to_collection y luego eliminamos esta última.\n",
    "\n",
    "# # Definimos una expresión regular para extraer el id del campo \"id\" de la columna belongs_to_collection\n",
    "regex_name = r\"'name':\\s*'([^']+)\"\n",
    "regex_id = r\"'id':\\s*([\\d]+)\"\n",
    "\n",
    "\n",
    "# # Utilizamos la función \"str.extract\" para extraer el id y guardarlo en una nueva columna 'name_collection'\n",
    "movies_df['name_collection'] = movies_df['belongs_to_collection'].str.extract(regex_name)\n",
    "movies_df['id_collection'] = movies_df['belongs_to_collection'].str.extract(regex_id)"
   ]
  },
  {
   "cell_type": "code",
   "execution_count": 124,
   "metadata": {},
   "outputs": [
    {
     "data": {
      "text/plain": [
       "<seaborn.axisgrid.FacetGrid at 0x2639a41d810>"
      ]
     },
     "execution_count": 124,
     "metadata": {},
     "output_type": "execute_result"
    },
    {
     "data": {
      "image/png": "[encoded data removed]",
      "text/plain": [
       "<Figure size 584.875x500 with 1 Axes>"
      ]
     },
     "metadata": {},
     "output_type": "display_data"
    }
   ],
   "source": [
    "(\n",
    "    movies_df[['name_collection','id_collection']]\n",
    "    .isnull()\n",
    "    .melt()\n",
    "    .pipe(\n",
    "        lambda df : (\n",
    "            sns.displot(\n",
    "                data = df,\n",
    "                y ='variable',\n",
    "                hue ='value',\n",
    "                multiple = 'fill',\n",
    "             )\n",
    "        )\n",
    "    )\n",
    ")\n"
   ]
  },
  {
   "cell_type": "code",
   "execution_count": 125,
   "metadata": {},
   "outputs": [
    {
     "data": {
      "text/html": [
       "<div>\n",
       "<style scoped>\n",
       "    .dataframe tbody tr th:only-of-type {\n",
       "        vertical-align: middle;\n",
       "    }\n",
       "\n",
       "    .dataframe tbody tr th {\n",
       "        vertical-align: top;\n",
       "    }\n",
       "\n",
       "    .dataframe thead th {\n",
       "        text-align: right;\n",
       "    }\n",
       "</style>\n",
       "<table border=\"1\" class=\"dataframe\">\n",
       "  <thead>\n",
       "    <tr style=\"text-align: right;\">\n",
       "      <th></th>\n",
       "      <th>id_movie</th>\n",
       "      <th>title</th>\n",
       "      <th>tagline</th>\n",
       "      <th>overview</th>\n",
       "      <th>genres</th>\n",
       "      <th>runtime</th>\n",
       "      <th>release_date</th>\n",
       "      <th>release_year</th>\n",
       "      <th>status</th>\n",
       "      <th>belongs_to_collection</th>\n",
       "      <th>original_language</th>\n",
       "      <th>spoken_languages</th>\n",
       "      <th>production_companies</th>\n",
       "      <th>production_countries</th>\n",
       "      <th>popularity</th>\n",
       "      <th>vote_average</th>\n",
       "      <th>vote_count</th>\n",
       "      <th>budget</th>\n",
       "      <th>revenue</th>\n",
       "      <th>return</th>\n",
       "      <th>name_collection</th>\n",
       "      <th>id_collection</th>\n",
       "    </tr>\n",
       "  </thead>\n",
       "  <tbody>\n",
       "  </tbody>\n",
       "</table>\n",
       "</div>"
      ],
      "text/plain": [
       "Empty DataFrame\n",
       "Columns: [id_movie, title, tagline, overview, genres, runtime, release_date, release_year, status, belongs_to_collection, original_language, spoken_languages, production_companies, production_countries, popularity, vote_average, vote_count, budget, revenue, return, name_collection, id_collection]\n",
       "Index: []"
      ]
     },
     "execution_count": 125,
     "metadata": {},
     "output_type": "execute_result"
    }
   ],
   "source": [
    "movies_df[movies_df['id_collection']==0]"
   ]
  },
  {
   "cell_type": "code",
   "execution_count": 126,
   "metadata": {},
   "outputs": [],
   "source": [
    "# definiremos el id 0 para aquellos items que no posean colección\n",
    "movies_df['name_collection'] = movies_df['name_collection'].fillna('no collection')\n",
    "movies_df['id_collection'] = movies_df['id_collection'].fillna(int(0))"
   ]
  },
  {
   "cell_type": "code",
   "execution_count": 127,
   "metadata": {},
   "outputs": [],
   "source": [
    "# collections = movies_df[['id_movie','name_collection','revenue']]\n",
    "collections_df = movies_df[['id_collection','name_collection']]\n",
    "# movies_collections_df = movies_df[['id_movie_']]"
   ]
  },
  {
   "cell_type": "code",
   "execution_count": 128,
   "metadata": {},
   "outputs": [
    {
     "name": "stderr",
     "output_type": "stream",
     "text": [
      "C:\\Users\\Usuario\\AppData\\Local\\Temp\\ipykernel_4388\\2460585649.py:2: SettingWithCopyWarning: \n",
      "A value is trying to be set on a copy of a slice from a DataFrame.\n",
      "Try using .loc[row_indexer,col_indexer] = value instead\n",
      "\n",
      "See the caveats in the documentation: https://pandas.pydata.org/pandas-docs/stable/user_guide/indexing.html#returning-a-view-versus-a-copy\n",
      "  collections_df['name_collection'] = collections_df['name_collection'].apply(lambda x: x.title().strip())\n"
     ]
    }
   ],
   "source": [
    "# Inicial de las palabras con mayusculas\n",
    "collections_df['name_collection'] = collections_df['name_collection'].apply(lambda x: x.title().strip())"
   ]
  },
  {
   "cell_type": "code",
   "execution_count": 129,
   "metadata": {},
   "outputs": [],
   "source": [
    "collections_df = collections_df.drop_duplicates()"
   ]
  },
  {
   "cell_type": "code",
   "execution_count": 130,
   "metadata": {},
   "outputs": [
    {
     "data": {
      "text/html": [
       "<div>\n",
       "<style scoped>\n",
       "    .dataframe tbody tr th:only-of-type {\n",
       "        vertical-align: middle;\n",
       "    }\n",
       "\n",
       "    .dataframe tbody tr th {\n",
       "        vertical-align: top;\n",
       "    }\n",
       "\n",
       "    .dataframe thead th {\n",
       "        text-align: right;\n",
       "    }\n",
       "</style>\n",
       "<table border=\"1\" class=\"dataframe\">\n",
       "  <thead>\n",
       "    <tr style=\"text-align: right;\">\n",
       "      <th></th>\n",
       "      <th>id_movie</th>\n",
       "      <th>id_collection</th>\n",
       "    </tr>\n",
       "  </thead>\n",
       "  <tbody>\n",
       "    <tr>\n",
       "      <th>2429</th>\n",
       "      <td>100</td>\n",
       "      <td>0</td>\n",
       "    </tr>\n",
       "    <tr>\n",
       "      <th>13609</th>\n",
       "      <td>10000</td>\n",
       "      <td>0</td>\n",
       "    </tr>\n",
       "    <tr>\n",
       "      <th>4435</th>\n",
       "      <td>10001</td>\n",
       "      <td>0</td>\n",
       "    </tr>\n",
       "    <tr>\n",
       "      <th>17451</th>\n",
       "      <td>100010</td>\n",
       "      <td>0</td>\n",
       "    </tr>\n",
       "    <tr>\n",
       "      <th>36946</th>\n",
       "      <td>100017</td>\n",
       "      <td>0</td>\n",
       "    </tr>\n",
       "    <tr>\n",
       "      <th>...</th>\n",
       "      <td>...</td>\n",
       "      <td>...</td>\n",
       "    </tr>\n",
       "    <tr>\n",
       "      <th>25652</th>\n",
       "      <td>99946</td>\n",
       "      <td>0</td>\n",
       "    </tr>\n",
       "    <tr>\n",
       "      <th>3767</th>\n",
       "      <td>9995</td>\n",
       "      <td>0</td>\n",
       "    </tr>\n",
       "    <tr>\n",
       "      <th>12549</th>\n",
       "      <td>9997</td>\n",
       "      <td>0</td>\n",
       "    </tr>\n",
       "    <tr>\n",
       "      <th>25079</th>\n",
       "      <td>99977</td>\n",
       "      <td>0</td>\n",
       "    </tr>\n",
       "    <tr>\n",
       "      <th>13106</th>\n",
       "      <td>9999</td>\n",
       "      <td>0</td>\n",
       "    </tr>\n",
       "  </tbody>\n",
       "</table>\n",
       "<p>44667 rows × 2 columns</p>\n",
       "</div>"
      ],
      "text/plain": [
       "      id_movie id_collection\n",
       "2429       100             0\n",
       "13609    10000             0\n",
       "4435     10001             0\n",
       "17451   100010             0\n",
       "36946   100017             0\n",
       "...        ...           ...\n",
       "25652    99946             0\n",
       "3767      9995             0\n",
       "12549     9997             0\n",
       "25079    99977             0\n",
       "13106     9999             0\n",
       "\n",
       "[44667 rows x 2 columns]"
      ]
     },
     "execution_count": 130,
     "metadata": {},
     "output_type": "execute_result"
    }
   ],
   "source": [
    "movies_collections_df = movies_df[['id_movie','id_collection']]\n",
    "movies_collections_df"
   ]
  },
  {
   "cell_type": "code",
   "execution_count": 131,
   "metadata": {},
   "outputs": [],
   "source": [
    "# crear el csv \n",
    "collections_df.to_csv(\"data/data_processed/collections_df.csv\",index=False)\n",
    "movies_collections_df.to_csv(\"data/data_processed/movies_collections.csv\",index=False)"
   ]
  },
  {
   "cell_type": "markdown",
   "metadata": {},
   "source": [
    "---------"
   ]
  },
  {
   "cell_type": "markdown",
   "metadata": {},
   "source": [
    "# Tabla genres y movies_genres"
   ]
  },
  {
   "cell_type": "markdown",
   "metadata": {},
   "source": [
    "Creacion de la tabla genres que utilizaremos para el sistema de recomendación y sus tablas auxiliares."
   ]
  },
  {
   "cell_type": "code",
   "execution_count": 132,
   "metadata": {},
   "outputs": [
    {
     "data": {
      "text/html": [
       "<div>\n",
       "<style scoped>\n",
       "    .dataframe tbody tr th:only-of-type {\n",
       "        vertical-align: middle;\n",
       "    }\n",
       "\n",
       "    .dataframe tbody tr th {\n",
       "        vertical-align: top;\n",
       "    }\n",
       "\n",
       "    .dataframe thead th {\n",
       "        text-align: right;\n",
       "    }\n",
       "</style>\n",
       "<table border=\"1\" class=\"dataframe\">\n",
       "  <thead>\n",
       "    <tr style=\"text-align: right;\">\n",
       "      <th></th>\n",
       "      <th>id_movie</th>\n",
       "      <th>title</th>\n",
       "      <th>tagline</th>\n",
       "      <th>overview</th>\n",
       "      <th>genres</th>\n",
       "      <th>runtime</th>\n",
       "      <th>release_date</th>\n",
       "      <th>release_year</th>\n",
       "      <th>status</th>\n",
       "      <th>belongs_to_collection</th>\n",
       "      <th>original_language</th>\n",
       "      <th>spoken_languages</th>\n",
       "      <th>production_companies</th>\n",
       "      <th>production_countries</th>\n",
       "      <th>popularity</th>\n",
       "      <th>vote_average</th>\n",
       "      <th>vote_count</th>\n",
       "      <th>budget</th>\n",
       "      <th>revenue</th>\n",
       "      <th>return</th>\n",
       "      <th>name_collection</th>\n",
       "      <th>id_collection</th>\n",
       "    </tr>\n",
       "  </thead>\n",
       "  <tbody>\n",
       "    <tr>\n",
       "      <th>2429</th>\n",
       "      <td>100</td>\n",
       "      <td>Lock, Stock And Two Smoking Barrels</td>\n",
       "      <td>A Disgrace to Criminals Everywhere.</td>\n",
       "      <td>A card sharp and his unwillingly-enlisted frie...</td>\n",
       "      <td>[{'id': 35, 'name': 'Comedy'}, {'id': 80, 'nam...</td>\n",
       "      <td>105.0</td>\n",
       "      <td>1998-03-05</td>\n",
       "      <td>1998</td>\n",
       "      <td>Released</td>\n",
       "      <td>NaN</td>\n",
       "      <td>en</td>\n",
       "      <td>[{'iso_639_1': 'en', 'name': 'English'}]</td>\n",
       "      <td>[{'name': 'Handmade Films Ltd.', 'id': 146}, {...</td>\n",
       "      <td>[{'iso_3166_1': 'GB', 'name': 'United Kingdom'}]</td>\n",
       "      <td>4.60786</td>\n",
       "      <td>7.5</td>\n",
       "      <td>1671.0</td>\n",
       "      <td>1350000.0</td>\n",
       "      <td>3897569.0</td>\n",
       "      <td>0.34637</td>\n",
       "      <td>no collection</td>\n",
       "      <td>0</td>\n",
       "    </tr>\n",
       "    <tr>\n",
       "      <th>13609</th>\n",
       "      <td>10000</td>\n",
       "      <td>La Estrategia Del Caracol</td>\n",
       "      <td>NaN</td>\n",
       "      <td>A group of tenants living in an old house are ...</td>\n",
       "      <td>[{'id': 35, 'name': 'Comedy'}, {'id': 18, 'nam...</td>\n",
       "      <td>116.0</td>\n",
       "      <td>1993-12-25</td>\n",
       "      <td>1993</td>\n",
       "      <td>Released</td>\n",
       "      <td>NaN</td>\n",
       "      <td>es</td>\n",
       "      <td>[{'iso_639_1': 'es', 'name': 'Español'}]</td>\n",
       "      <td>[{'name': 'Ministère de la Culture et de la Fr...</td>\n",
       "      <td>[{'iso_3166_1': 'CO', 'name': 'Colombia'}, {'i...</td>\n",
       "      <td>0.281609</td>\n",
       "      <td>7.2</td>\n",
       "      <td>9.0</td>\n",
       "      <td>0.0</td>\n",
       "      <td>0.0</td>\n",
       "      <td>0.00000</td>\n",
       "      <td>no collection</td>\n",
       "      <td>0</td>\n",
       "    </tr>\n",
       "  </tbody>\n",
       "</table>\n",
       "</div>"
      ],
      "text/plain": [
       "      id_movie                                title  \\\n",
       "2429       100  Lock, Stock And Two Smoking Barrels   \n",
       "13609    10000            La Estrategia Del Caracol   \n",
       "\n",
       "                                   tagline  \\\n",
       "2429   A Disgrace to Criminals Everywhere.   \n",
       "13609                                  NaN   \n",
       "\n",
       "                                                overview  \\\n",
       "2429   A card sharp and his unwillingly-enlisted frie...   \n",
       "13609  A group of tenants living in an old house are ...   \n",
       "\n",
       "                                                  genres  runtime  \\\n",
       "2429   [{'id': 35, 'name': 'Comedy'}, {'id': 80, 'nam...    105.0   \n",
       "13609  [{'id': 35, 'name': 'Comedy'}, {'id': 18, 'nam...    116.0   \n",
       "\n",
       "      release_date  release_year    status belongs_to_collection  \\\n",
       "2429    1998-03-05          1998  Released                   NaN   \n",
       "13609   1993-12-25          1993  Released                   NaN   \n",
       "\n",
       "      original_language                          spoken_languages  \\\n",
       "2429                 en  [{'iso_639_1': 'en', 'name': 'English'}]   \n",
       "13609                es  [{'iso_639_1': 'es', 'name': 'Español'}]   \n",
       "\n",
       "                                    production_companies  \\\n",
       "2429   [{'name': 'Handmade Films Ltd.', 'id': 146}, {...   \n",
       "13609  [{'name': 'Ministère de la Culture et de la Fr...   \n",
       "\n",
       "                                    production_countries popularity  \\\n",
       "2429    [{'iso_3166_1': 'GB', 'name': 'United Kingdom'}]    4.60786   \n",
       "13609  [{'iso_3166_1': 'CO', 'name': 'Colombia'}, {'i...   0.281609   \n",
       "\n",
       "       vote_average  vote_count     budget    revenue   return  \\\n",
       "2429            7.5      1671.0  1350000.0  3897569.0  0.34637   \n",
       "13609           7.2         9.0        0.0        0.0  0.00000   \n",
       "\n",
       "      name_collection id_collection  \n",
       "2429    no collection             0  \n",
       "13609   no collection             0  "
      ]
     },
     "execution_count": 132,
     "metadata": {},
     "output_type": "execute_result"
    }
   ],
   "source": [
    "movies_df.head(2)"
   ]
  },
  {
   "cell_type": "code",
   "execution_count": 133,
   "metadata": {},
   "outputs": [
    {
     "data": {
      "text/plain": [
       "(2261, 22)"
      ]
     },
     "execution_count": 133,
     "metadata": {},
     "output_type": "execute_result"
    }
   ],
   "source": [
    "movies_df[movies_df.genres == '[]'].shape\n"
   ]
  },
  {
   "cell_type": "code",
   "execution_count": 134,
   "metadata": {},
   "outputs": [
    {
     "data": {
      "text/plain": [
       "False"
      ]
     },
     "execution_count": 134,
     "metadata": {},
     "output_type": "execute_result"
    }
   ],
   "source": [
    "# Existe el id =0 ?\n",
    "movies_df.genres.astype(str).str.contains(r\"'id': 0\").any()"
   ]
  },
  {
   "cell_type": "code",
   "execution_count": 135,
   "metadata": {},
   "outputs": [
    {
     "data": {
      "text/html": [
       "<div>\n",
       "<style scoped>\n",
       "    .dataframe tbody tr th:only-of-type {\n",
       "        vertical-align: middle;\n",
       "    }\n",
       "\n",
       "    .dataframe tbody tr th {\n",
       "        vertical-align: top;\n",
       "    }\n",
       "\n",
       "    .dataframe thead th {\n",
       "        text-align: right;\n",
       "    }\n",
       "</style>\n",
       "<table border=\"1\" class=\"dataframe\">\n",
       "  <thead>\n",
       "    <tr style=\"text-align: right;\">\n",
       "      <th></th>\n",
       "      <th>id_movie</th>\n",
       "      <th>genres</th>\n",
       "      <th>id_genre</th>\n",
       "      <th>name_genre</th>\n",
       "    </tr>\n",
       "  </thead>\n",
       "  <tbody>\n",
       "    <tr>\n",
       "      <th>2429</th>\n",
       "      <td>100</td>\n",
       "      <td>{'id': 35, 'name': 'Comedy'}</td>\n",
       "      <td>35</td>\n",
       "      <td>Comedy</td>\n",
       "    </tr>\n",
       "    <tr>\n",
       "      <th>2429</th>\n",
       "      <td>100</td>\n",
       "      <td>{'id': 80, 'name': 'Crime'}</td>\n",
       "      <td>80</td>\n",
       "      <td>Crime</td>\n",
       "    </tr>\n",
       "    <tr>\n",
       "      <th>13609</th>\n",
       "      <td>10000</td>\n",
       "      <td>{'id': 35, 'name': 'Comedy'}</td>\n",
       "      <td>35</td>\n",
       "      <td>Comedy</td>\n",
       "    </tr>\n",
       "    <tr>\n",
       "      <th>13609</th>\n",
       "      <td>10000</td>\n",
       "      <td>{'id': 18, 'name': 'Drama'}</td>\n",
       "      <td>18</td>\n",
       "      <td>Drama</td>\n",
       "    </tr>\n",
       "    <tr>\n",
       "      <th>4435</th>\n",
       "      <td>10001</td>\n",
       "      <td>{'id': 35, 'name': 'Comedy'}</td>\n",
       "      <td>35</td>\n",
       "      <td>Comedy</td>\n",
       "    </tr>\n",
       "    <tr>\n",
       "      <th>...</th>\n",
       "      <td>...</td>\n",
       "      <td>...</td>\n",
       "      <td>...</td>\n",
       "      <td>...</td>\n",
       "    </tr>\n",
       "    <tr>\n",
       "      <th>12549</th>\n",
       "      <td>9997</td>\n",
       "      <td>{'id': 28, 'name': 'Action'}</td>\n",
       "      <td>28</td>\n",
       "      <td>Action</td>\n",
       "    </tr>\n",
       "    <tr>\n",
       "      <th>12549</th>\n",
       "      <td>9997</td>\n",
       "      <td>{'id': 878, 'name': 'Science Fiction'}</td>\n",
       "      <td>878</td>\n",
       "      <td>Science Fiction</td>\n",
       "    </tr>\n",
       "    <tr>\n",
       "      <th>25079</th>\n",
       "      <td>99977</td>\n",
       "      <td>{'id': 35, 'name': 'Comedy'}</td>\n",
       "      <td>35</td>\n",
       "      <td>Comedy</td>\n",
       "    </tr>\n",
       "    <tr>\n",
       "      <th>13106</th>\n",
       "      <td>9999</td>\n",
       "      <td>{'id': 80, 'name': 'Crime'}</td>\n",
       "      <td>80</td>\n",
       "      <td>Crime</td>\n",
       "    </tr>\n",
       "    <tr>\n",
       "      <th>13106</th>\n",
       "      <td>9999</td>\n",
       "      <td>{'id': 18, 'name': 'Drama'}</td>\n",
       "      <td>18</td>\n",
       "      <td>Drama</td>\n",
       "    </tr>\n",
       "  </tbody>\n",
       "</table>\n",
       "<p>92220 rows × 4 columns</p>\n",
       "</div>"
      ],
      "text/plain": [
       "      id_movie                                  genres  id_genre  \\\n",
       "2429       100            {'id': 35, 'name': 'Comedy'}        35   \n",
       "2429       100             {'id': 80, 'name': 'Crime'}        80   \n",
       "13609    10000            {'id': 35, 'name': 'Comedy'}        35   \n",
       "13609    10000             {'id': 18, 'name': 'Drama'}        18   \n",
       "4435     10001            {'id': 35, 'name': 'Comedy'}        35   \n",
       "...        ...                                     ...       ...   \n",
       "12549     9997            {'id': 28, 'name': 'Action'}        28   \n",
       "12549     9997  {'id': 878, 'name': 'Science Fiction'}       878   \n",
       "25079    99977            {'id': 35, 'name': 'Comedy'}        35   \n",
       "13106     9999             {'id': 80, 'name': 'Crime'}        80   \n",
       "13106     9999             {'id': 18, 'name': 'Drama'}        18   \n",
       "\n",
       "            name_genre  \n",
       "2429            Comedy  \n",
       "2429             Crime  \n",
       "13609           Comedy  \n",
       "13609            Drama  \n",
       "4435            Comedy  \n",
       "...                ...  \n",
       "12549           Action  \n",
       "12549  Science Fiction  \n",
       "25079           Comedy  \n",
       "13106            Crime  \n",
       "13106            Drama  \n",
       "\n",
       "[92220 rows x 4 columns]"
      ]
     },
     "execution_count": 135,
     "metadata": {},
     "output_type": "execute_result"
    }
   ],
   "source": [
    "genres = movies_df[['id_movie','genres']].copy()\n",
    "genres['genres'] = genres['genres'] .replace(\"[]\", \"[{'id': 0, 'name': 'no genre'}]\")  #\n",
    "\n",
    "genres['genres'] = genres['genres'].apply(ast.literal_eval) # Convertir el string a lista de diccionarios\n",
    "# Aplicamos explode() para crear filas adicionales para cada elemento en la lista production_countries\n",
    "genres = genres.explode('genres')\n",
    "\n",
    "# # # Extraer el valor de id_production_countries y name_production_countries de cada elemento en la lista production_countries\n",
    "genres['id_genre'] = genres['genres'].apply(lambda x: x['id'])\n",
    "genres['name_genre'] = genres['genres'].apply(lambda x: x['name'])\n",
    "genres"
   ]
  },
  {
   "cell_type": "code",
   "execution_count": 136,
   "metadata": {},
   "outputs": [
    {
     "data": {
      "text/html": [
       "<div>\n",
       "<style scoped>\n",
       "    .dataframe tbody tr th:only-of-type {\n",
       "        vertical-align: middle;\n",
       "    }\n",
       "\n",
       "    .dataframe tbody tr th {\n",
       "        vertical-align: top;\n",
       "    }\n",
       "\n",
       "    .dataframe thead th {\n",
       "        text-align: right;\n",
       "    }\n",
       "</style>\n",
       "<table border=\"1\" class=\"dataframe\">\n",
       "  <thead>\n",
       "    <tr style=\"text-align: right;\">\n",
       "      <th></th>\n",
       "      <th>id_movie</th>\n",
       "      <th>id_genre</th>\n",
       "    </tr>\n",
       "  </thead>\n",
       "  <tbody>\n",
       "    <tr>\n",
       "      <th>0</th>\n",
       "      <td>100</td>\n",
       "      <td>35</td>\n",
       "    </tr>\n",
       "    <tr>\n",
       "      <th>1</th>\n",
       "      <td>100</td>\n",
       "      <td>80</td>\n",
       "    </tr>\n",
       "    <tr>\n",
       "      <th>2</th>\n",
       "      <td>10000</td>\n",
       "      <td>35</td>\n",
       "    </tr>\n",
       "    <tr>\n",
       "      <th>3</th>\n",
       "      <td>10000</td>\n",
       "      <td>18</td>\n",
       "    </tr>\n",
       "    <tr>\n",
       "      <th>4</th>\n",
       "      <td>10001</td>\n",
       "      <td>35</td>\n",
       "    </tr>\n",
       "    <tr>\n",
       "      <th>...</th>\n",
       "      <td>...</td>\n",
       "      <td>...</td>\n",
       "    </tr>\n",
       "    <tr>\n",
       "      <th>92215</th>\n",
       "      <td>9997</td>\n",
       "      <td>28</td>\n",
       "    </tr>\n",
       "    <tr>\n",
       "      <th>92216</th>\n",
       "      <td>9997</td>\n",
       "      <td>878</td>\n",
       "    </tr>\n",
       "    <tr>\n",
       "      <th>92217</th>\n",
       "      <td>99977</td>\n",
       "      <td>35</td>\n",
       "    </tr>\n",
       "    <tr>\n",
       "      <th>92218</th>\n",
       "      <td>9999</td>\n",
       "      <td>80</td>\n",
       "    </tr>\n",
       "    <tr>\n",
       "      <th>92219</th>\n",
       "      <td>9999</td>\n",
       "      <td>18</td>\n",
       "    </tr>\n",
       "  </tbody>\n",
       "</table>\n",
       "<p>92220 rows × 2 columns</p>\n",
       "</div>"
      ],
      "text/plain": [
       "      id_movie  id_genre\n",
       "0          100        35\n",
       "1          100        80\n",
       "2        10000        35\n",
       "3        10000        18\n",
       "4        10001        35\n",
       "...        ...       ...\n",
       "92215     9997        28\n",
       "92216     9997       878\n",
       "92217    99977        35\n",
       "92218     9999        80\n",
       "92219     9999        18\n",
       "\n",
       "[92220 rows x 2 columns]"
      ]
     },
     "execution_count": 136,
     "metadata": {},
     "output_type": "execute_result"
    }
   ],
   "source": [
    "movies_genres_df = genres[['id_movie','id_genre']].drop_duplicates().reset_index(drop=True)\n",
    "movies_genres_df"
   ]
  },
  {
   "cell_type": "code",
   "execution_count": 137,
   "metadata": {},
   "outputs": [
    {
     "data": {
      "text/html": [
       "<div>\n",
       "<style scoped>\n",
       "    .dataframe tbody tr th:only-of-type {\n",
       "        vertical-align: middle;\n",
       "    }\n",
       "\n",
       "    .dataframe tbody tr th {\n",
       "        vertical-align: top;\n",
       "    }\n",
       "\n",
       "    .dataframe thead th {\n",
       "        text-align: right;\n",
       "    }\n",
       "</style>\n",
       "<table border=\"1\" class=\"dataframe\">\n",
       "  <thead>\n",
       "    <tr style=\"text-align: right;\">\n",
       "      <th></th>\n",
       "      <th>id_genre</th>\n",
       "      <th>name_genre</th>\n",
       "    </tr>\n",
       "  </thead>\n",
       "  <tbody>\n",
       "    <tr>\n",
       "      <th>0</th>\n",
       "      <td>28</td>\n",
       "      <td>Action</td>\n",
       "    </tr>\n",
       "    <tr>\n",
       "      <th>1</th>\n",
       "      <td>12</td>\n",
       "      <td>Adventure</td>\n",
       "    </tr>\n",
       "    <tr>\n",
       "      <th>2</th>\n",
       "      <td>16</td>\n",
       "      <td>Animation</td>\n",
       "    </tr>\n",
       "    <tr>\n",
       "      <th>3</th>\n",
       "      <td>35</td>\n",
       "      <td>Comedy</td>\n",
       "    </tr>\n",
       "    <tr>\n",
       "      <th>4</th>\n",
       "      <td>80</td>\n",
       "      <td>Crime</td>\n",
       "    </tr>\n",
       "    <tr>\n",
       "      <th>5</th>\n",
       "      <td>99</td>\n",
       "      <td>Documentary</td>\n",
       "    </tr>\n",
       "    <tr>\n",
       "      <th>6</th>\n",
       "      <td>18</td>\n",
       "      <td>Drama</td>\n",
       "    </tr>\n",
       "    <tr>\n",
       "      <th>7</th>\n",
       "      <td>10751</td>\n",
       "      <td>Family</td>\n",
       "    </tr>\n",
       "    <tr>\n",
       "      <th>8</th>\n",
       "      <td>14</td>\n",
       "      <td>Fantasy</td>\n",
       "    </tr>\n",
       "    <tr>\n",
       "      <th>9</th>\n",
       "      <td>10769</td>\n",
       "      <td>Foreign</td>\n",
       "    </tr>\n",
       "    <tr>\n",
       "      <th>10</th>\n",
       "      <td>36</td>\n",
       "      <td>History</td>\n",
       "    </tr>\n",
       "    <tr>\n",
       "      <th>11</th>\n",
       "      <td>27</td>\n",
       "      <td>Horror</td>\n",
       "    </tr>\n",
       "    <tr>\n",
       "      <th>12</th>\n",
       "      <td>10402</td>\n",
       "      <td>Music</td>\n",
       "    </tr>\n",
       "    <tr>\n",
       "      <th>13</th>\n",
       "      <td>9648</td>\n",
       "      <td>Mystery</td>\n",
       "    </tr>\n",
       "    <tr>\n",
       "      <th>14</th>\n",
       "      <td>10749</td>\n",
       "      <td>Romance</td>\n",
       "    </tr>\n",
       "    <tr>\n",
       "      <th>15</th>\n",
       "      <td>878</td>\n",
       "      <td>Science Fiction</td>\n",
       "    </tr>\n",
       "    <tr>\n",
       "      <th>16</th>\n",
       "      <td>10770</td>\n",
       "      <td>Tv Movie</td>\n",
       "    </tr>\n",
       "    <tr>\n",
       "      <th>17</th>\n",
       "      <td>53</td>\n",
       "      <td>Thriller</td>\n",
       "    </tr>\n",
       "    <tr>\n",
       "      <th>18</th>\n",
       "      <td>10752</td>\n",
       "      <td>War</td>\n",
       "    </tr>\n",
       "    <tr>\n",
       "      <th>19</th>\n",
       "      <td>37</td>\n",
       "      <td>Western</td>\n",
       "    </tr>\n",
       "    <tr>\n",
       "      <th>20</th>\n",
       "      <td>0</td>\n",
       "      <td>No Genre</td>\n",
       "    </tr>\n",
       "  </tbody>\n",
       "</table>\n",
       "</div>"
      ],
      "text/plain": [
       "    id_genre       name_genre\n",
       "0         28           Action\n",
       "1         12        Adventure\n",
       "2         16        Animation\n",
       "3         35           Comedy\n",
       "4         80            Crime\n",
       "5         99      Documentary\n",
       "6         18            Drama\n",
       "7      10751           Family\n",
       "8         14          Fantasy\n",
       "9      10769          Foreign\n",
       "10        36          History\n",
       "11        27           Horror\n",
       "12     10402            Music\n",
       "13      9648          Mystery\n",
       "14     10749          Romance\n",
       "15       878  Science Fiction\n",
       "16     10770         Tv Movie\n",
       "17        53         Thriller\n",
       "18     10752              War\n",
       "19        37          Western\n",
       "20         0         No Genre"
      ]
     },
     "execution_count": 137,
     "metadata": {},
     "output_type": "execute_result"
    }
   ],
   "source": [
    "genres_df = genres[['id_genre','name_genre']].drop_duplicates().sort_values('name_genre').reset_index(drop=True)\n",
    "genres_df.name_genre = genres_df.name_genre.str.title()\n",
    "\n",
    "genres_df"
   ]
  },
  {
   "cell_type": "code",
   "execution_count": 138,
   "metadata": {},
   "outputs": [],
   "source": [
    "# crear el csv \n",
    "genres_df.to_csv(\"data/data_processed/genres_df.csv\",index=False)\n",
    "movies_genres_df.to_csv(\"data/data_processed/movies_genres_df.csv\",index=False)"
   ]
  },
  {
   "cell_type": "markdown",
   "metadata": {},
   "source": [
    "------"
   ]
  },
  {
   "cell_type": "code",
   "execution_count": 139,
   "metadata": {},
   "outputs": [],
   "source": [
    "movies_df = movies_df[['id_movie', 'title', 'tagline', 'overview','id_collection', 'runtime',\n",
    "       'release_date', 'release_year','popularity', 'vote_average', 'vote_count', 'budget', 'revenue',\n",
    "       'return']]\n",
    "\n",
    "#cambiamos los tipos de datos de las columnas\n",
    "movies_df = movies_df.astype({'id_movie' : 'int64', \n",
    "                        # 'title':'str',\n",
    "                        # 'tagline':'str',\n",
    "                        # 'overview':'str',\n",
    "                        # 'original_language':'category',\n",
    "                        # # 'runtime':'int', # posee valores nan por lo que aun no podemos cambiarlo a int\n",
    "                        # 'release_date': ,  # se tratará mas adelante\n",
    "                        'budget': 'int64', \n",
    "                        'revenue': 'int64', \n",
    "                        'vote_count': 'int64', \n",
    "                        'vote_average': 'int', \n",
    "                        # 'popularity'\n",
    "                        }, copy=False, errors='raise')\n"
   ]
  },
  {
   "cell_type": "markdown",
   "metadata": {},
   "source": [
    "----"
   ]
  }
 ],
 "metadata": {
  "kernelspec": {
   "display_name": "Python 3",
   "language": "python",
   "name": "python3"
  },
  "language_info": {
   "codemirror_mode": {
    "name": "ipython",
    "version": 3
   },
   "file_extension": ".py",
   "mimetype": "text/x-python",
   "name": "python",
   "nbconvert_exporter": "python",
   "pygments_lexer": "ipython3",
   "version": "3.11.0"
  },
  "orig_nbformat": 4
 },
 "nbformat": 4,
 "nbformat_minor": 2
}
